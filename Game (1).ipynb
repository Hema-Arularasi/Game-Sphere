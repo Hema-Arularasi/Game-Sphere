{
 "cells": [
  {
   "cell_type": "code",
   "execution_count": 1,
   "id": "d8c4329c",
   "metadata": {},
   "outputs": [
    {
     "name": "stdout",
     "output_type": "stream",
     "text": [
      "Requirement already satisfied: PySimpleGUI in c:\\users\\admin\\anaconda3\\lib\\site-packages (5.0.2)\n",
      "Requirement already satisfied: rsa in c:\\users\\admin\\anaconda3\\lib\\site-packages (from PySimpleGUI) (4.7.2)\n",
      "Requirement already satisfied: pyasn1>=0.1.3 in c:\\users\\admin\\anaconda3\\lib\\site-packages (from rsa->PySimpleGUI) (0.4.8)\n",
      "Note: you may need to restart the kernel to use updated packages.\n"
     ]
    }
   ],
   "source": [
    "pip install PySimpleGUI"
   ]
  },
  {
   "cell_type": "code",
   "execution_count": 2,
   "id": "9b312846",
   "metadata": {},
   "outputs": [
    {
     "name": "stdout",
     "output_type": "stream",
     "text": [
      "Requirement already satisfied: cassandra-driver in c:\\users\\admin\\anaconda3\\lib\\site-packages (3.29.0)\n",
      "Requirement already satisfied: geomet<0.3,>=0.1 in c:\\users\\admin\\anaconda3\\lib\\site-packages (from cassandra-driver) (0.2.1.post1)\n",
      "Requirement already satisfied: click in c:\\users\\admin\\anaconda3\\lib\\site-packages (from geomet<0.3,>=0.1->cassandra-driver) (8.0.4)\n",
      "Requirement already satisfied: six in c:\\users\\admin\\anaconda3\\lib\\site-packages (from geomet<0.3,>=0.1->cassandra-driver) (1.16.0)\n",
      "Requirement already satisfied: colorama in c:\\users\\admin\\appdata\\roaming\\python\\python39\\site-packages (from click->geomet<0.3,>=0.1->cassandra-driver) (0.4.6)\n",
      "Note: you may need to restart the kernel to use updated packages.\n"
     ]
    }
   ],
   "source": [
    "pip install cassandra-driver"
   ]
  },
  {
   "cell_type": "code",
   "execution_count": 3,
   "id": "fb0d9220",
   "metadata": {},
   "outputs": [
    {
     "name": "stdout",
     "output_type": "stream",
     "text": [
      "Requirement already satisfied: pygame in c:\\users\\admin\\anaconda3\\lib\\site-packages (2.5.2)\n",
      "Note: you may need to restart the kernel to use updated packages.\n"
     ]
    }
   ],
   "source": [
    "pip install pygame"
   ]
  },
  {
   "cell_type": "code",
   "execution_count": 4,
   "id": "283d9a3c",
   "metadata": {},
   "outputs": [
    {
     "name": "stdout",
     "output_type": "stream",
     "text": [
      "Requirement already satisfied: kivy in c:\\users\\admin\\anaconda3\\lib\\site-packages (2.3.0)\n",
      "Requirement already satisfied: kivymd in c:\\users\\admin\\anaconda3\\lib\\site-packages (1.2.0)\n",
      "Requirement already satisfied: Kivy-Garden>=0.1.4 in c:\\users\\admin\\anaconda3\\lib\\site-packages (from kivy) (0.1.5)\n",
      "Requirement already satisfied: docutils in c:\\users\\admin\\anaconda3\\lib\\site-packages (from kivy) (0.17.1)\n",
      "Requirement already satisfied: pygments in c:\\users\\admin\\anaconda3\\lib\\site-packages (from kivy) (2.11.2)\n",
      "Requirement already satisfied: kivy-deps.angle~=0.4.0 in c:\\users\\admin\\anaconda3\\lib\\site-packages (from kivy) (0.4.0)\n",
      "Requirement already satisfied: kivy-deps.sdl2~=0.7.0 in c:\\users\\admin\\anaconda3\\lib\\site-packages (from kivy) (0.7.0)\n",
      "Requirement already satisfied: kivy-deps.glew~=0.3.1 in c:\\users\\admin\\anaconda3\\lib\\site-packages (from kivy) (0.3.1)\n",
      "Requirement already satisfied: pypiwin32 in c:\\users\\admin\\anaconda3\\lib\\site-packages (from kivy) (223)\n",
      "Requirement already satisfied: pillow in c:\\users\\admin\\anaconda3\\lib\\site-packages (from kivymd) (9.0.1)\n",
      "Requirement already satisfied: requests in c:\\users\\admin\\anaconda3\\lib\\site-packages (from Kivy-Garden>=0.1.4->kivy) (2.27.1)\n",
      "Requirement already satisfied: pywin32>=223 in c:\\users\\admin\\anaconda3\\lib\\site-packages (from pypiwin32->kivy) (302)\n",
      "Requirement already satisfied: urllib3<1.27,>=1.21.1 in c:\\users\\admin\\anaconda3\\lib\\site-packages (from requests->Kivy-Garden>=0.1.4->kivy) (1.26.9)\n",
      "Requirement already satisfied: certifi>=2017.4.17 in c:\\users\\admin\\anaconda3\\lib\\site-packages (from requests->Kivy-Garden>=0.1.4->kivy) (2021.10.8)\n",
      "Requirement already satisfied: charset-normalizer~=2.0.0 in c:\\users\\admin\\anaconda3\\lib\\site-packages (from requests->Kivy-Garden>=0.1.4->kivy) (2.0.4)\n",
      "Requirement already satisfied: idna<4,>=2.5 in c:\\users\\admin\\anaconda3\\lib\\site-packages (from requests->Kivy-Garden>=0.1.4->kivy) (3.3)\n",
      "Note: you may need to restart the kernel to use updated packages.\n"
     ]
    }
   ],
   "source": [
    "pip install kivy kivymd"
   ]
  },
  {
   "cell_type": "code",
   "execution_count": 12,
   "id": "6a839a75",
   "metadata": {},
   "outputs": [
    {
     "name": "stderr",
     "output_type": "stream",
     "text": [
      "[INFO   ] [Logger      ] Record log in C:\\Users\\ADMIN\\.kivy\\logs\\kivy_24-02-18_8.txt\n",
      "[INFO   ] [deps        ] Successfully imported \"kivy_deps.angle\" 0.4.0\n",
      "[INFO   ] [deps        ] Successfully imported \"kivy_deps.glew\" 0.3.1\n",
      "[INFO   ] [deps        ] Successfully imported \"kivy_deps.sdl2\" 0.7.0\n",
      "[INFO   ] [Kivy        ] v2.3.0\n",
      "[INFO   ] [Kivy        ] Installed at \"C:\\Users\\ADMIN\\anaconda3\\lib\\site-packages\\kivy\\__init__.py\"\n",
      "[INFO   ] [Python      ] v3.9.12 (main, Apr  4 2022, 05:22:27) [MSC v.1916 64 bit (AMD64)]\n",
      "[INFO   ] [Python      ] Interpreter at \"C:\\Users\\ADMIN\\anaconda3\\python.exe\"\n",
      "[INFO   ] [Logger      ] Purge log fired. Processing...\n",
      "[INFO   ] [Logger      ] Purge finished!\n",
      "[INFO   ] [Factory     ] 195 symbols loaded\n",
      "[INFO   ] [Image       ] Providers: img_tex, img_dds, img_sdl2, img_pil (img_ffpyplayer ignored)\n",
      "[INFO   ] [Text        ] Provider: sdl2\n",
      "[INFO   ] [Window      ] Provider: sdl2\n",
      "[INFO   ] [GL          ] Using the \"OpenGL\" graphics system\n",
      "[INFO   ] [GL          ] GLEW initialization succeeded\n",
      "[INFO   ] [GL          ] Backend used <glew>\n",
      "[INFO   ] [GL          ] OpenGL version <b'4.6.0 - Build 31.0.101.4575'>\n",
      "[INFO   ] [GL          ] OpenGL vendor <b'Intel'>\n",
      "[INFO   ] [GL          ] OpenGL renderer <b'Intel(R) Iris(R) Xe Graphics'>\n",
      "[INFO   ] [GL          ] OpenGL parsed version: 4, 6\n",
      "[INFO   ] [GL          ] Shading version <b'4.60 - Build 31.0.101.4575'>\n",
      "[INFO   ] [GL          ] Texture max size <16384>\n",
      "[INFO   ] [GL          ] Texture max units <32>\n",
      "[INFO   ] [Window      ] auto add sdl2 input provider\n",
      "[INFO   ] [Window      ] virtual keyboard not allowed, single mode, not docked\n",
      "[INFO   ] [Base        ] Start application main loop\n",
      "[INFO   ] [GL          ] NPOT texture support is available\n",
      "[INFO   ] [Base        ] Leaving application in progress...\n"
     ]
    }
   ],
   "source": [
    "from kivy.app import App\n",
    "from kivy.uix.boxlayout import BoxLayout\n",
    "from kivy.uix.button import Button\n",
    "from kivy.uix.label import Label\n",
    "from kivy.uix.widget import Widget\n",
    "\n",
    "class ARGameApp(App):\n",
    "    def build(self):\n",
    "        return ARGame()\n",
    "\n",
    "class ARGame(BoxLayout):\n",
    "    def __init__(self, **kwargs):\n",
    "        super(ARGame, self).__init__(**kwargs)\n",
    "        self.orientation = \"vertical\"\n",
    "\n",
    "        self.ar_canvas = ARCanvas()\n",
    "        self.add_widget(self.ar_canvas)\n",
    "\n",
    "        self.ar_label = Label(text=\"Tap on the screen to spawn objects\", halign=\"center\", color=(1, 0, 0, 1))\n",
    "        self.add_widget(self.ar_label)\n",
    "\n",
    "class ARCanvas(Widget):\n",
    "    def on_touch_down(self, touch):\n",
    "        ar_object = ARObject(pos=(touch.x - 25, touch.y - 25))\n",
    "        self.add_widget(ar_object)\n",
    "\n",
    "class ARObject(Button):\n",
    "    def __init__(self, **kwargs):\n",
    "        super(ARObject, self).__init__(**kwargs)\n",
    "        self.text = \"Object\"\n",
    "\n",
    "if __name__ == '__main__':\n",
    "    ARGameApp().run()\n"
   ]
  },
  {
   "cell_type": "code",
   "execution_count": 11,
   "id": "7e0c11dd",
   "metadata": {},
   "outputs": [
    {
     "ename": "SystemExit",
     "evalue": "",
     "output_type": "error",
     "traceback": [
      "An exception has occurred, use %tb to see the full traceback.\n",
      "\u001b[1;31mSystemExit\u001b[0m\n"
     ]
    }
   ],
   "source": [
    "import pygame\n",
    "import random\n",
    "import sys\n",
    "\n",
    "pygame.init()\n",
    "\n",
    "# Set up display\n",
    "WIDTH, HEIGHT = 800, 600\n",
    "screen = pygame.display.set_mode((WIDTH, HEIGHT))\n",
    "pygame.display.set_caption(\"Hangman Game\")\n",
    "\n",
    "# Load background image\n",
    "background_image = pygame.image.load(\"C:/Users/ADMIN/Downloads/word guess.png\")\n",
    "background_image = pygame.transform.scale(background_image, (WIDTH, HEIGHT))\n",
    "\n",
    "# Colors\n",
    "WHITE = (255, 255, 255)\n",
    "BLACK = (0, 0, 0)\n",
    "RED = (255, 0, 0)\n",
    "\n",
    "# Fonts\n",
    "word_font = pygame.font.Font(None, 48)\n",
    "hint_font = pygame.font.Font(None, 18)\n",
    "info_font = pygame.font.Font(None, 18)\n",
    "\n",
    "def choose_word():\n",
    "    words = {\n",
    "        \"database\": \"Organized collection of data, typically stored and accessed electronically.\",\n",
    "        \"variable\": \"A symbol representing a quantity that can change in a program.\",\n",
    "        \"interface\": \"A point of interaction between components, like a user and a computer system.\",\n",
    "        \"compiler\": \"A program that translates code written in a high-level language into machine code.\",\n",
    "        \"debugging\": \"The process of finding and fixing errors in software.\",\n",
    "        \"framework\": \"A pre-built structure or set of tools used for software development.\",\n",
    "        \"encryption\": \"The process of converting information into a code to secure it.\",\n",
    "        \"boolean\": \"A data type with two possible values: true or false.\",\n",
    "        \"iteration\": \"Repeating a set of instructions a specified number of times in a loop.\",\n",
    "        \"frontend\": \"The user interface and design elements of a software application.\",\n",
    "        \"backend\": \"The server-side of a software application, handling data processing.\",\n",
    "        \"HTML\": \"Hypertext Markup Language, used to create and structure web content.\",\n",
    "        \"API\": \"Application Programming Interface, a set of rules for software communication.\",\n",
    "        \"repository\": \"A storage location for software code, often using version control.\",\n",
    "        \"agile\": \"A development methodology emphasizing flexibility and collaboration.\",\n",
    "        \"scripting\": \"Writing code to automate tasks or control software applications.\",\n",
    "        \"machine learning\": \"A type of artificial intelligence where systems learn from data.\",\n",
    "        \"abstraction\": \"Hiding complex details and showing only essential features of an object.\",\n",
    "        \"responsive\": \"Design or code that adapts to different screen sizes and devices.\",\n",
    "        \"protocol\": \"A set of rules governing the exchange of data between devices.\",\n",
    "        \"recursion\": \"A programming concept where a function calls itself in its definition.\",\n",
    "        \"Java\": \"A versatile, object-oriented programming language.\",\n",
    "        # Add more words and hints\n",
    "    }\n",
    "    word = random.choice(list(words.keys()))\n",
    "    hint = words[word]\n",
    "    return word, hint\n",
    "\n",
    "def display_word(word, guessed_letters):\n",
    "    display = \"\"\n",
    "    for letter in word:\n",
    "        if letter in guessed_letters:\n",
    "            display += letter\n",
    "        else:\n",
    "            display += \"_\"\n",
    "    return display\n",
    "\n",
    "\n",
    "def hangman():\n",
    "    clock = pygame.time.Clock()\n",
    "\n",
    "    while True:\n",
    "        secret_word, hint = choose_word()\n",
    "        guessed_letters = []\n",
    "        incorrect_guesses = 0\n",
    "        max_attempts = 6\n",
    "\n",
    "        while True:\n",
    "            for event in pygame.event.get():\n",
    "                if event.type == pygame.QUIT:\n",
    "                    pygame.quit()\n",
    "                    sys.exit()\n",
    "\n",
    "                if event.type == pygame.KEYDOWN:\n",
    "                    if event.unicode.isalpha():\n",
    "                        guess = event.unicode.lower()\n",
    "\n",
    "                        if guess in guessed_letters:\n",
    "                            print(\"You've already guessed that letter. Try again.\")\n",
    "                        elif guess in secret_word:\n",
    "                            guessed_letters.append(guess)\n",
    "                            if set(guessed_letters) == set(secret_word):\n",
    "                                print(f\"Congratulations! You've guessed the word: {secret_word}\")\n",
    "                                break\n",
    "                        else:\n",
    "                            incorrect_guesses += 1\n",
    "                            print(f\"Incorrect guess! Attempts left: {max_attempts - incorrect_guesses}\")\n",
    "\n",
    "                            if incorrect_guesses == max_attempts:\n",
    "                                print(f\"Sorry, you ran out of attempts. The word was: {secret_word}\")\n",
    "                                break\n",
    "\n",
    "            # Draw background image\n",
    "            screen.blit(background_image, (0, 0))\n",
    "\n",
    "            # Draw the word\n",
    "            word_display = word_font.render(display_word(secret_word, guessed_letters), True, BLACK)\n",
    "            screen.blit(word_display, (10, 10))\n",
    "\n",
    "            # Draw the hint\n",
    "            hint_display = hint_font.render(f\"Hint: {hint}\", True, BLACK)\n",
    "            screen.blit(hint_display, (10, 70))\n",
    "\n",
    "            # Draw incorrect guesses\n",
    "            incorrect_display = info_font.render(f\"Incorrect Guesses: {', '.join(set(guessed_letters) - set(secret_word))}\", True, RED)\n",
    "            screen.blit(incorrect_display, (10, 520))\n",
    "\n",
    "            pygame.display.flip()\n",
    "            clock.tick(30)\n",
    "\n",
    "            # Check for game end\n",
    "            if set(guessed_letters) == set(secret_word) or incorrect_guesses == max_attempts:\n",
    "                break\n",
    "\n",
    "        play_again = input(\"Do you want to play again? (yes/no): \")\n",
    "        if play_again.lower() != 'yes':\n",
    "            pygame.quit()\n",
    "            sys.exit()\n",
    "\n",
    "if __name__ == \"__main__\":\n",
    "    hangman()\n"
   ]
  },
  {
   "cell_type": "code",
   "execution_count": null,
   "id": "0fcb08b8",
   "metadata": {},
   "outputs": [],
   "source": []
  }
 ],
 "metadata": {
  "kernelspec": {
   "display_name": "Python 3 (ipykernel)",
   "language": "python",
   "name": "python3"
  },
  "language_info": {
   "codemirror_mode": {
    "name": "ipython",
    "version": 3
   },
   "file_extension": ".py",
   "mimetype": "text/x-python",
   "name": "python",
   "nbconvert_exporter": "python",
   "pygments_lexer": "ipython3",
   "version": "3.9.12"
  }
 },
 "nbformat": 4,
 "nbformat_minor": 5
}
